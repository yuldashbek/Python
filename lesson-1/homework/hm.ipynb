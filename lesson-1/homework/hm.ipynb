a= int(input('enter height:'))
b= int(input('enter width:'))
perimeter= 2*(a+b)
area= a*b
perimeter
area

diameter= int(input('enter diameter:'))
lengt = 3.14*diameter
lengt

a= int(input('enter number:'))
b= int(input('enter number:'))
mean= (a+b)/2
mean

a = int(input('enter number:'))
b = int(input('enter number:'))
Sum= a + b 
Square_a= a**2
Square_b= b**2
Sum
Square_a
Square_b
